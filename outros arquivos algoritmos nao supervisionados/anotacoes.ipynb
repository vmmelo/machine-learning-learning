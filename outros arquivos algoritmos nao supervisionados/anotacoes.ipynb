{
 "cells": [
  {
   "cell_type": "code",
   "execution_count": 61,
   "metadata": {},
   "outputs": [
    {
     "data": {
      "text/plain": "      filme_id                                     titulo  \\\n0            1                           Toy Story (1995)   \n1            2                             Jumanji (1995)   \n2            3                    Grumpier Old Men (1995)   \n3            4                   Waiting to Exhale (1995)   \n4            5         Father of the Bride Part II (1995)   \n...        ...                                        ...   \n9737    193581  Black Butler: Book of the Atlantic (2017)   \n9738    193583               No Game No Life: Zero (2017)   \n9739    193585                               Flint (2017)   \n9740    193587        Bungo Stray Dogs: Dead Apple (2018)   \n9741    193609        Andrew Dice Clay: Dice Rules (1991)   \n\n                                          generos  \n0     Adventure|Animation|Children|Comedy|Fantasy  \n1                      Adventure|Children|Fantasy  \n2                                  Comedy|Romance  \n3                            Comedy|Drama|Romance  \n4                                          Comedy  \n...                                           ...  \n9737              Action|Animation|Comedy|Fantasy  \n9738                     Animation|Comedy|Fantasy  \n9739                                        Drama  \n9740                             Action|Animation  \n9741                                       Comedy  \n\n[9742 rows x 3 columns]",
      "text/html": "<div>\n<style scoped>\n    .dataframe tbody tr th:only-of-type {\n        vertical-align: middle;\n    }\n\n    .dataframe tbody tr th {\n        vertical-align: top;\n    }\n\n    .dataframe thead th {\n        text-align: right;\n    }\n</style>\n<table border=\"1\" class=\"dataframe\">\n  <thead>\n    <tr style=\"text-align: right;\">\n      <th></th>\n      <th>filme_id</th>\n      <th>titulo</th>\n      <th>generos</th>\n    </tr>\n  </thead>\n  <tbody>\n    <tr>\n      <th>0</th>\n      <td>1</td>\n      <td>Toy Story (1995)</td>\n      <td>Adventure|Animation|Children|Comedy|Fantasy</td>\n    </tr>\n    <tr>\n      <th>1</th>\n      <td>2</td>\n      <td>Jumanji (1995)</td>\n      <td>Adventure|Children|Fantasy</td>\n    </tr>\n    <tr>\n      <th>2</th>\n      <td>3</td>\n      <td>Grumpier Old Men (1995)</td>\n      <td>Comedy|Romance</td>\n    </tr>\n    <tr>\n      <th>3</th>\n      <td>4</td>\n      <td>Waiting to Exhale (1995)</td>\n      <td>Comedy|Drama|Romance</td>\n    </tr>\n    <tr>\n      <th>4</th>\n      <td>5</td>\n      <td>Father of the Bride Part II (1995)</td>\n      <td>Comedy</td>\n    </tr>\n    <tr>\n      <th>...</th>\n      <td>...</td>\n      <td>...</td>\n      <td>...</td>\n    </tr>\n    <tr>\n      <th>9737</th>\n      <td>193581</td>\n      <td>Black Butler: Book of the Atlantic (2017)</td>\n      <td>Action|Animation|Comedy|Fantasy</td>\n    </tr>\n    <tr>\n      <th>9738</th>\n      <td>193583</td>\n      <td>No Game No Life: Zero (2017)</td>\n      <td>Animation|Comedy|Fantasy</td>\n    </tr>\n    <tr>\n      <th>9739</th>\n      <td>193585</td>\n      <td>Flint (2017)</td>\n      <td>Drama</td>\n    </tr>\n    <tr>\n      <th>9740</th>\n      <td>193587</td>\n      <td>Bungo Stray Dogs: Dead Apple (2018)</td>\n      <td>Action|Animation</td>\n    </tr>\n    <tr>\n      <th>9741</th>\n      <td>193609</td>\n      <td>Andrew Dice Clay: Dice Rules (1991)</td>\n      <td>Comedy</td>\n    </tr>\n  </tbody>\n</table>\n<p>9742 rows × 3 columns</p>\n</div>"
     },
     "execution_count": 61,
     "metadata": {},
     "output_type": "execute_result"
    }
   ],
   "source": [
    "import re\n",
    "import datetime\n",
    "import pandas as pd\n",
    "uri_filmes = 'https://raw.githubusercontent.com/alura-cursos/machine-learning-algoritmos-nao-supervisionados/master/movies.csv'\n",
    "\n",
    "filmes = pd.read_csv(uri_filmes)\n",
    "\n",
    "filmes.columns = ['filme_id', 'titulo', 'generos']\n",
    "\n",
    "def get_year(title):\n",
    "    search = re.findall(\"\\(\\d{4}\\)\", title) if isinstance(title, str) else []\n",
    "    return (len(search) > 0 and search[len(search) - 1][1:-1]) or datetime.datetime.now().year\n",
    "\n",
    "# cria nova coluna com ano do filme\n",
    "# filmes['ano'] = filmes.apply(lambda row: get_year(row['titulo']), axis=1)\n",
    "\n",
    "filmes"
   ]
  },
  {
   "cell_type": "code",
   "execution_count": 62,
   "metadata": {},
   "outputs": [
    {
     "data": {
      "text/plain": "   filme_id                              titulo  (no genres listed)  Action  \\\n0         1                    Toy Story (1995)                   0       0   \n1         2                      Jumanji (1995)                   0       0   \n2         3             Grumpier Old Men (1995)                   0       0   \n3         4            Waiting to Exhale (1995)                   0       0   \n4         5  Father of the Bride Part II (1995)                   0       0   \n\n   Adventure  Animation  Children  Comedy  Crime  Documentary  ...  Film-Noir  \\\n0          1          1         1       1      0            0  ...          0   \n1          1          0         1       0      0            0  ...          0   \n2          0          0         0       1      0            0  ...          0   \n3          0          0         0       1      0            0  ...          0   \n4          0          0         0       1      0            0  ...          0   \n\n   Horror  IMAX  Musical  Mystery  Romance  Sci-Fi  Thriller  War  Western  \n0       0     0        0        0        0       0         0    0        0  \n1       0     0        0        0        0       0         0    0        0  \n2       0     0        0        0        1       0         0    0        0  \n3       0     0        0        0        1       0         0    0        0  \n4       0     0        0        0        0       0         0    0        0  \n\n[5 rows x 22 columns]",
      "text/html": "<div>\n<style scoped>\n    .dataframe tbody tr th:only-of-type {\n        vertical-align: middle;\n    }\n\n    .dataframe tbody tr th {\n        vertical-align: top;\n    }\n\n    .dataframe thead th {\n        text-align: right;\n    }\n</style>\n<table border=\"1\" class=\"dataframe\">\n  <thead>\n    <tr style=\"text-align: right;\">\n      <th></th>\n      <th>filme_id</th>\n      <th>titulo</th>\n      <th>(no genres listed)</th>\n      <th>Action</th>\n      <th>Adventure</th>\n      <th>Animation</th>\n      <th>Children</th>\n      <th>Comedy</th>\n      <th>Crime</th>\n      <th>Documentary</th>\n      <th>...</th>\n      <th>Film-Noir</th>\n      <th>Horror</th>\n      <th>IMAX</th>\n      <th>Musical</th>\n      <th>Mystery</th>\n      <th>Romance</th>\n      <th>Sci-Fi</th>\n      <th>Thriller</th>\n      <th>War</th>\n      <th>Western</th>\n    </tr>\n  </thead>\n  <tbody>\n    <tr>\n      <th>0</th>\n      <td>1</td>\n      <td>Toy Story (1995)</td>\n      <td>0</td>\n      <td>0</td>\n      <td>1</td>\n      <td>1</td>\n      <td>1</td>\n      <td>1</td>\n      <td>0</td>\n      <td>0</td>\n      <td>...</td>\n      <td>0</td>\n      <td>0</td>\n      <td>0</td>\n      <td>0</td>\n      <td>0</td>\n      <td>0</td>\n      <td>0</td>\n      <td>0</td>\n      <td>0</td>\n      <td>0</td>\n    </tr>\n    <tr>\n      <th>1</th>\n      <td>2</td>\n      <td>Jumanji (1995)</td>\n      <td>0</td>\n      <td>0</td>\n      <td>1</td>\n      <td>0</td>\n      <td>1</td>\n      <td>0</td>\n      <td>0</td>\n      <td>0</td>\n      <td>...</td>\n      <td>0</td>\n      <td>0</td>\n      <td>0</td>\n      <td>0</td>\n      <td>0</td>\n      <td>0</td>\n      <td>0</td>\n      <td>0</td>\n      <td>0</td>\n      <td>0</td>\n    </tr>\n    <tr>\n      <th>2</th>\n      <td>3</td>\n      <td>Grumpier Old Men (1995)</td>\n      <td>0</td>\n      <td>0</td>\n      <td>0</td>\n      <td>0</td>\n      <td>0</td>\n      <td>1</td>\n      <td>0</td>\n      <td>0</td>\n      <td>...</td>\n      <td>0</td>\n      <td>0</td>\n      <td>0</td>\n      <td>0</td>\n      <td>0</td>\n      <td>1</td>\n      <td>0</td>\n      <td>0</td>\n      <td>0</td>\n      <td>0</td>\n    </tr>\n    <tr>\n      <th>3</th>\n      <td>4</td>\n      <td>Waiting to Exhale (1995)</td>\n      <td>0</td>\n      <td>0</td>\n      <td>0</td>\n      <td>0</td>\n      <td>0</td>\n      <td>1</td>\n      <td>0</td>\n      <td>0</td>\n      <td>...</td>\n      <td>0</td>\n      <td>0</td>\n      <td>0</td>\n      <td>0</td>\n      <td>0</td>\n      <td>1</td>\n      <td>0</td>\n      <td>0</td>\n      <td>0</td>\n      <td>0</td>\n    </tr>\n    <tr>\n      <th>4</th>\n      <td>5</td>\n      <td>Father of the Bride Part II (1995)</td>\n      <td>0</td>\n      <td>0</td>\n      <td>0</td>\n      <td>0</td>\n      <td>0</td>\n      <td>1</td>\n      <td>0</td>\n      <td>0</td>\n      <td>...</td>\n      <td>0</td>\n      <td>0</td>\n      <td>0</td>\n      <td>0</td>\n      <td>0</td>\n      <td>0</td>\n      <td>0</td>\n      <td>0</td>\n      <td>0</td>\n      <td>0</td>\n    </tr>\n  </tbody>\n</table>\n<p>5 rows × 22 columns</p>\n</div>"
     },
     "execution_count": 62,
     "metadata": {},
     "output_type": "execute_result"
    }
   ],
   "source": [
    "# extrai os generios e cria novas colunas para cada genero\n",
    "generos = filmes.generos.str.get_dummies()\n",
    "# concatena o dataframe original com o novo dataframe dos generos\n",
    "dados_dos_filmes = pd.concat([filmes, generos], axis=1)\n",
    "#remove coluna antiga dos generos\n",
    "dados_dos_filmes = dados_dos_filmes.drop(['generos'], axis=1)\n",
    "dados_dos_filmes.head()"
   ]
  },
  {
   "cell_type": "code",
   "execution_count": 63,
   "outputs": [
    {
     "data": {
      "text/plain": "array([[-0.05917995, -0.48060698,  2.59101927, ..., -0.49125897,\n        -0.20201972, -0.13206534],\n       [-0.05917995, -0.48060698,  2.59101927, ..., -0.49125897,\n        -0.20201972, -0.13206534],\n       [-0.05917995, -0.48060698, -0.3859485 , ..., -0.49125897,\n        -0.20201972, -0.13206534],\n       ...,\n       [-0.05917995, -0.48060698, -0.3859485 , ..., -0.49125897,\n        -0.20201972, -0.13206534],\n       [-0.05917995,  2.0807022 , -0.3859485 , ..., -0.49125897,\n        -0.20201972, -0.13206534],\n       [-0.05917995, -0.48060698, -0.3859485 , ..., -0.49125897,\n        -0.20201972, -0.13206534]])"
     },
     "execution_count": 63,
     "metadata": {},
     "output_type": "execute_result"
    }
   ],
   "source": [
    "from sklearn.preprocessing import StandardScaler\n",
    "\n",
    "# reescalando generos dos filmes\n",
    "scaler = StandardScaler()\n",
    "generos_escalados = scaler.fit_transform(generos)\n",
    "\n",
    "generos_escalados"
   ],
   "metadata": {
    "collapsed": false,
    "pycharm": {
     "name": "#%%\n"
    }
   }
  },
  {
   "cell_type": "code",
   "execution_count": 74,
   "outputs": [
    {
     "name": "stdout",
     "output_type": "stream",
     "text": [
      "Grupos [1 1 0 ... 0 1 0]\n"
     ]
    }
   ],
   "source": [
    "from sklearn.cluster import KMeans\n",
    "\n",
    "# agrupando os filmes em 3 clusters\n",
    "modelo = KMeans(n_clusters=3)\n",
    "modelo.fit(generos_escalados)\n",
    "\n",
    "print(f'Grupos {modelo.labels_}')"
   ],
   "metadata": {
    "collapsed": false,
    "pycharm": {
     "name": "#%%\n"
    }
   }
  }
 ],
 "metadata": {
  "kernelspec": {
   "display_name": "Python 3",
   "language": "python",
   "name": "python3"
  },
  "language_info": {
   "codemirror_mode": {
    "name": "ipython",
    "version": 3
   },
   "file_extension": ".py",
   "mimetype": "text/x-python",
   "name": "python",
   "nbconvert_exporter": "python",
   "pygments_lexer": "ipython3",
   "version": "3.8.7"
  }
 },
 "nbformat": 4,
 "nbformat_minor": 4
}